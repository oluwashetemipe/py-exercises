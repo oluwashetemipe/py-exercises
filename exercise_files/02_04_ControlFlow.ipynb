{
 "cells": [
  {
   "cell_type": "markdown",
   "id": "4e835ee3",
   "metadata": {},
   "source": [
    "## Control Flow"
   ]
  },
  {
   "cell_type": "markdown",
   "id": "2a65107b",
   "metadata": {},
   "source": [
    "### If / Else statements"
   ]
  },
  {
   "cell_type": "code",
   "execution_count": 5,
   "id": "03d16962",
   "metadata": {},
   "outputs": [
    {
     "name": "stdout",
     "output_type": "stream",
     "text": [
      "It is true!\n",
      "Also print this\n",
      "Always print this\n"
     ]
    }
   ],
   "source": [
    "a = True\n",
    "if a:\n",
    "    print('It is true!')\n",
    "    print('Also print this')\n",
    "else:\n",
    "    print('It is false!')\n",
    "print('Always print this')"
   ]
  },
  {
   "cell_type": "code",
   "execution_count": 8,
   "id": "c250abc7",
   "metadata": {},
   "outputs": [
    {
     "name": "stdout",
     "output_type": "stream",
     "text": [
      "It is true!\n",
      "Also print this\n",
      "Always print this\n"
     ]
    }
   ],
   "source": [
    "a = True\n",
    "b = False\n",
    "c = True\n",
    "if a:\n",
    "    print('It is true!')\n",
    "    print('Also print this')\n",
    "    if b:\n",
    "        print('Both are true')\n",
    "        if c:\n",
    "            print('All three are true')\n",
    "else:\n",
    "    print('It is false!')\n",
    "print('Always print this')"
   ]
  },
  {
   "cell_type": "markdown",
   "id": "ecc930e8",
   "metadata": {},
   "source": [
    "### For loops"
   ]
  },
  {
   "cell_type": "code",
   "execution_count": 11,
   "id": "8b49fa67",
   "metadata": {},
   "outputs": [
    {
     "name": "stdout",
     "output_type": "stream",
     "text": [
      "1\n",
      "2\n",
      "3\n",
      "4\n",
      "5\n"
     ]
    }
   ],
   "source": [
    "a = [1,2,3,4,5]\n",
    "for number in a:\n",
    "    print(number)"
   ]
  },
  {
   "cell_type": "code",
   "execution_count": 10,
   "id": "55d76100",
   "metadata": {},
   "outputs": [
    {
     "data": {
      "text/plain": [
       "True"
      ]
     },
     "execution_count": 10,
     "metadata": {},
     "output_type": "execute_result"
    }
   ],
   "source": [
    "4 in a"
   ]
  },
  {
   "cell_type": "markdown",
   "id": "8b4d6361",
   "metadata": {},
   "source": [
    "### While loops"
   ]
  },
  {
   "cell_type": "code",
   "id": "053eb644",
   "metadata": {
    "ExecuteTime": {
     "end_time": "2025-03-09T20:03:24.440583Z",
     "start_time": "2025-03-09T20:03:24.433498Z"
    }
   },
   "source": [
    "a = 0\n",
    "while a < 5:\n",
    "    print(a)\n",
    "    a = a + 1"
   ],
   "outputs": [
    {
     "name": "stdout",
     "output_type": "stream",
     "text": [
      "0\n",
      "1\n",
      "2\n",
      "3\n",
      "4\n"
     ]
    }
   ],
   "execution_count": 1
  },
  {
   "metadata": {
    "ExecuteTime": {
     "end_time": "2025-03-11T01:45:34.268139Z",
     "start_time": "2025-03-11T01:45:34.099175Z"
    }
   },
   "cell_type": "code",
   "source": "bytes(4)",
   "id": "1861e285f9d01e91",
   "outputs": [
    {
     "data": {
      "text/plain": [
       "b'\\x00\\x00\\x00\\x00'"
      ]
     },
     "execution_count": 2,
     "metadata": {},
     "output_type": "execute_result"
    }
   ],
   "execution_count": 2
  },
  {
   "metadata": {},
   "cell_type": "code",
   "outputs": [],
   "execution_count": null,
   "source": "",
   "id": "76341799d89f7b03"
  }
 ],
 "metadata": {
  "kernelspec": {
   "display_name": "Python 3 (ipykernel)",
   "language": "python",
   "name": "python3"
  },
  "language_info": {
   "codemirror_mode": {
    "name": "ipython",
    "version": 3
   },
   "file_extension": ".py",
   "mimetype": "text/x-python",
   "name": "python",
   "nbconvert_exporter": "python",
   "pygments_lexer": "ipython3",
   "version": "3.9.13"
  }
 },
 "nbformat": 4,
 "nbformat_minor": 5
}
